{
 "cells": [
  {
   "cell_type": "code",
   "execution_count": 34,
   "metadata": {},
   "outputs": [],
   "source": [
    "import csv\n",
    "import argparse\n",
    "import os\n",
    "import io\n",
    "\n",
    "from bvh_converter.bvhplayer_skeleton import *\n",
    "\n",
    "%load_ext autoreload\n",
    "%autoreload 2"
   ]
  },
  {
   "cell_type": "code",
   "execution_count": 4,
   "metadata": {},
   "outputs": [],
   "source": [
    "filename = r'C:\\Users\\miracleyoo\\Downloads\\miku_bluestar.bvh'"
   ]
  },
  {
   "cell_type": "code",
   "execution_count": 41,
   "metadata": {},
   "outputs": [
    {
     "name": "stdout",
     "output_type": "stream",
     "text": [
      "Reading BVH file...\n",
      "done\n"
     ]
    }
   ],
   "source": [
    "print(\"Reading BVH file...\",)\n",
    "my_bvh = ReadBVH(filename)  # Doesn't actually read the file, just creates\n",
    "# a readbvh object and sets up the file for\n",
    "# reading in the next line.\n",
    "my_bvh.read()  # Reads and parses the file.\n",
    "\n",
    "hips = process_bvhnode(my_bvh.root.children[1])  # Create joint hierarchy\n",
    "print(\"done\")"
   ]
  },
  {
   "cell_type": "code",
   "execution_count": 199,
   "metadata": {},
   "outputs": [
    {
     "data": {
      "text/plain": [
       "['グルーブ']"
      ]
     },
     "execution_count": 199,
     "metadata": {},
     "output_type": "execute_result"
    }
   ],
   "source": [
    "hips = process_bvhnode(my_bvh.root)\n",
    "[i.name for i in hips.children[1].children[0].children]"
   ]
  },
  {
   "cell_type": "code",
   "execution_count": 18,
   "metadata": {},
   "outputs": [
    {
     "data": {
      "text/plain": [
       "(6836, 1491)"
      ]
     },
     "execution_count": 18,
     "metadata": {},
     "output_type": "execute_result"
    }
   ],
   "source": [
    "import numpy as np\n",
    "np.array(my_bvh.keyframes).shape"
   ]
  },
  {
   "cell_type": "code",
   "execution_count": 111,
   "metadata": {},
   "outputs": [],
   "source": [
    "t = my_bvh.root.children[0]"
   ]
  },
  {
   "cell_type": "code",
   "execution_count": 132,
   "metadata": {},
   "outputs": [],
   "source": [
    "hips = process_bvhnode(my_bvh.root.children[0])"
   ]
  },
  {
   "cell_type": "code",
   "execution_count": 133,
   "metadata": {},
   "outputs": [
    {
     "name": "stdout",
     "output_type": "stream",
     "text": [
      "Building skeleton...\n",
      "['Xposition', 'Yposition', 'Zposition', 'Xrotation', 'Yrotation', 'Zrotation']\n",
      "done\n"
     ]
    }
   ],
   "source": [
    "print(\"Building skeleton...\",)\n",
    "myskeleton = Skeleton(hips, keyframes=my_bvh.keyframes, frames=my_bvh.frames, dt=my_bvh.dt)\n",
    "print(\"done\")"
   ]
  },
  {
   "cell_type": "code",
   "execution_count": 138,
   "metadata": {},
   "outputs": [
    {
     "data": {
      "text/plain": [
       "1491"
      ]
     },
     "execution_count": 138,
     "metadata": {},
     "output_type": "execute_result"
    }
   ],
   "source": [
    "len(myskeleton.keyframes[0])"
   ]
  },
  {
   "cell_type": "code",
   "execution_count": 44,
   "metadata": {},
   "outputs": [],
   "source": [
    "import pandas as pd"
   ]
  },
  {
   "cell_type": "code",
   "execution_count": 66,
   "metadata": {},
   "outputs": [
    {
     "name": "stdout",
     "output_type": "stream",
     "text": [
      "39 ['頭.X', '頭.Y', '頭.Z', '腕.L.X', '腕.L.Y', '腕.L.Z', '腕.R.X', '腕.R.Y', '腕.R.Z', 'ひじ.L.X', 'ひじ.L.Y', 'ひじ.L.Z', 'ひじ.R.X', 'ひじ.R.Y', 'ひじ.R.Z', '手首.L.X', '手首.L.Y', '手首.L.Z', '手首.R.X', '手首.R.Y', '手首.R.Z', '足.L.X', '足.L.Y', '足.L.Z', '足.R.X', '足.R.Y', '足.R.Z', 'ひざ.L.X', 'ひざ.L.Y', 'ひざ.L.Z', 'ひざ.R.X', 'ひざ.R.Y', 'ひざ.R.Z', '足首.L.X', '足首.L.Y', '足首.L.Z', '足首.R.X', '足首.R.Y', '足首.R.Z']\n"
     ]
    }
   ],
   "source": [
    "parts_name = ['頭', '腕.R', '腕.L', 'ひじ.R', 'ひじ.L', '足.R', '足.L', '手首.R', '手首.L',  'ひざ.R', 'ひざ.L', '足首.R', '足首.L']\n",
    "col_names = []\n",
    "_ = [col_names.extend((k+'.X', k+'.Y', k+'.Z')) for k in parts_name]\n",
    "print(len(col_names), col_names)"
   ]
  },
  {
   "cell_type": "code",
   "execution_count": 58,
   "metadata": {},
   "outputs": [],
   "source": [
    "csv_file = r'C:\\Users\\miracleyoo\\Downloads\\miku_bluestar_worldpos.csv'\n",
    "raw = pd.read_csv(csv_file, encoding='gbk')"
   ]
  },
  {
   "cell_type": "code",
   "execution_count": 78,
   "metadata": {},
   "outputs": [],
   "source": [
    "selected_joints = raw[col_names]\n",
    "joints_dict = {}\n",
    "for part in parts_name:\n",
    "    joint = selected_joints[[part+'.X', part+'.Y', part+'.Z']]\n",
    "    joints_dict[part] = joint.to_numpy()"
   ]
  },
  {
   "cell_type": "code",
   "execution_count": 113,
   "metadata": {},
   "outputs": [],
   "source": [
    "print(list(raw.columns))"
   ]
  },
  {
   "cell_type": "code",
   "execution_count": null,
   "metadata": {},
   "outputs": [],
   "source": []
  },
  {
   "cell_type": "code",
   "execution_count": 124,
   "metadata": {},
   "outputs": [],
   "source": [
    "import pickle as pkl\n",
    "import os.path as op\n",
    "\n",
    "def filter_columns(file_in, file_out=None, ret=False):\n",
    "    parts_name = ['頭', '腕.R', '腕.L', 'ひじ.R', 'ひじ.L', '足.R', '足.L', '手首.R', '手首.L',  'ひざ.R', 'ひざ.L', '足首.R', '足首.L']\n",
    "    col_names = []\n",
    "    _ = [col_names.extend((k+'.X', k+'.Y', k+'.Z')) for k in parts_name]\n",
    "    raw = pd.read_csv(file_in, encoding='gbk')\n",
    "    selected_joints = raw[col_names]\n",
    "    joints_dict = {}\n",
    "    joint_list = []\n",
    "    for part in parts_name:\n",
    "        joint = selected_joints[[part+'.X', part+'.Y', part+'.Z']]\n",
    "        joints_dict[part] = joint.to_numpy()\n",
    "        joint_list.append(joints_dict[part])\n",
    "    if file_out is None:\n",
    "        file_out = op.splitext(file_in)[0]+'_kp13.pkl'\n",
    "    with open(file_out, 'wb') as f:\n",
    "        pkl.dump(joints_dict, f)\n",
    "    if ret:\n",
    "        return np.array(joint_list)"
   ]
  },
  {
   "cell_type": "code",
   "execution_count": 126,
   "metadata": {},
   "outputs": [
    {
     "name": "stdout",
     "output_type": "stream",
     "text": [
      "(13, 6836, 3)\n"
     ]
    }
   ],
   "source": [
    "joint_arr = filter_columns(csv_file, ret=True)\n",
    "print(joint_arr.shape)"
   ]
  },
  {
   "cell_type": "code",
   "execution_count": 107,
   "metadata": {},
   "outputs": [],
   "source": [
    "x_mu = raw['センター.X'].to_numpy()\n",
    "y_mu = raw['センター.Y'].to_numpy()\n",
    "z_mu = raw['センター.Z'].to_numpy()"
   ]
  },
  {
   "cell_type": "code",
   "execution_count": 108,
   "metadata": {},
   "outputs": [
    {
     "data": {
      "text/plain": [
       "0"
      ]
     },
     "execution_count": 108,
     "metadata": {},
     "output_type": "execute_result"
    }
   ],
   "source": [
    "sum(y_mu!=0)"
   ]
  },
  {
   "cell_type": "code",
   "execution_count": 142,
   "metadata": {},
   "outputs": [],
   "source": [
    "from matplotlib import pyplot as plt\n",
    "from mpl_toolkits.mplot3d import Axes3D\n",
    "\n",
    "def get_skeleton_lines(x, y, z):\n",
    "    \"\"\"\n",
    "    From DHP19 toolbox\n",
    "    \"\"\"\n",
    "    # rename joints to identify name and axis\n",
    "    x_head, x_shoulderR, x_shoulderL, x_elbowR = x[0], x[1], x[2], x[3]\n",
    "    x_elbowL, x_hipR, x_hipL = (\n",
    "        x[4],\n",
    "        x[5],\n",
    "        x[6],\n",
    "    )\n",
    "    x_handR, x_handL, x_kneeR = (\n",
    "        x[7],\n",
    "        x[8],\n",
    "        x[9],\n",
    "    )\n",
    "    x_kneeL, x_footR, x_footL = x[10], x[11], x[12]\n",
    "\n",
    "    y_head, y_shoulderR, y_shoulderL, y_elbowR = y[0], y[1], y[2], y[3]\n",
    "    y_elbowL, y_hipR, y_hipL = (\n",
    "        y[4],\n",
    "        y[5],\n",
    "        y[6],\n",
    "    )\n",
    "    y_handR, y_handL, y_kneeR = (\n",
    "        y[7],\n",
    "        y[8],\n",
    "        y[9],\n",
    "    )\n",
    "    y_kneeL, y_footR, y_footL = y[10], y[11], y[12]\n",
    "\n",
    "    z_head, z_shoulderR, z_shoulderL, z_elbowR = z[0], z[1], z[2], z[3]\n",
    "    z_elbowL, z_hipR, z_hipL = (\n",
    "        z[4],\n",
    "        z[5],\n",
    "        z[6],\n",
    "    )\n",
    "    z_handR, z_handL, z_kneeR = (\n",
    "        z[7],\n",
    "        z[8],\n",
    "        z[9],\n",
    "    )\n",
    "    z_kneeL, z_footR, z_footL = z[10], z[11], z[12]\n",
    "\n",
    "    # definition of the lines of the skeleton graph\n",
    "    skeleton = np.zeros((14, 3, 2))\n",
    "    skeleton[0, :, :] = [\n",
    "        [x_head, x_shoulderR],\n",
    "        [y_head, y_shoulderR],\n",
    "        [z_head, z_shoulderR],\n",
    "    ]\n",
    "    skeleton[1, :, :] = [\n",
    "        [x_head, x_shoulderL],\n",
    "        [y_head, y_shoulderL],\n",
    "        [z_head, z_shoulderL],\n",
    "    ]\n",
    "    skeleton[2, :, :] = [\n",
    "        [x_elbowR, x_shoulderR],\n",
    "        [y_elbowR, y_shoulderR],\n",
    "        [z_elbowR, z_shoulderR],\n",
    "    ]\n",
    "    skeleton[3, :, :] = [\n",
    "        [x_elbowL, x_shoulderL],\n",
    "        [y_elbowL, y_shoulderL],\n",
    "        [z_elbowL, z_shoulderL],\n",
    "    ]\n",
    "    skeleton[4, :, :] = [\n",
    "        [x_elbowR, x_handR],\n",
    "        [y_elbowR, y_handR],\n",
    "        [z_elbowR, z_handR],\n",
    "    ]\n",
    "    skeleton[5, :, :] = [\n",
    "        [x_elbowL, x_handL],\n",
    "        [y_elbowL, y_handL],\n",
    "        [z_elbowL, z_handL],\n",
    "    ]\n",
    "    skeleton[6, :, :] = [\n",
    "        [x_hipR, x_shoulderR],\n",
    "        [y_hipR, y_shoulderR],\n",
    "        [z_hipR, z_shoulderR],\n",
    "    ]\n",
    "    skeleton[7, :, :] = [\n",
    "        [x_hipL, x_shoulderL],\n",
    "        [y_hipL, y_shoulderL],\n",
    "        [z_hipL, z_shoulderL],\n",
    "    ]\n",
    "    skeleton[8, :, :] = [[x_hipR, x_kneeR], [y_hipR, y_kneeR], [z_hipR, z_kneeR]]\n",
    "    skeleton[9, :, :] = [[x_hipL, x_kneeL], [y_hipL, y_kneeL], [z_hipL, z_kneeL]]\n",
    "    skeleton[10, :, :] = [\n",
    "        [x_footR, x_kneeR],\n",
    "        [y_footR, y_kneeR],\n",
    "        [z_footR, z_kneeR],\n",
    "    ]\n",
    "    skeleton[11, :, :] = [\n",
    "        [x_footL, x_kneeL],\n",
    "        [y_footL, y_kneeL],\n",
    "        [z_footL, z_kneeL],\n",
    "    ]\n",
    "    skeleton[12, :, :] = [\n",
    "        [x_shoulderR, x_shoulderL],\n",
    "        [y_shoulderR, y_shoulderL],\n",
    "        [z_shoulderR, z_shoulderL],\n",
    "    ]\n",
    "    skeleton[13, :, :] = [[x_hipR, x_hipL], [y_hipR, y_hipL], [z_hipR, z_hipL]]\n",
    "    return skeleton\n",
    "\n",
    "def get_3d_ax():\n",
    "    fig = plt.figure(figsize=(8, 8))\n",
    "    ax = Axes3D(fig)\n",
    "    ax.xaxis.pane.fill = False\n",
    "    ax.yaxis.pane.fill = False\n",
    "    ax.zaxis.pane.fill = False\n",
    "\n",
    "    # Now set color to white (or whatever is \"invisible\")\n",
    "    ax.xaxis.pane.set_edgecolor('w')\n",
    "    ax.yaxis.pane.set_edgecolor('w')\n",
    "    ax.zaxis.pane.set_edgecolor('w')\n",
    "\n",
    "    # Bonus: To get rid of the grid as well:\n",
    "    ax.grid(False)\n",
    "    ax.view_init(30, 240)\n",
    "    return ax\n",
    "\n",
    "def plot_3d(points, ax, c=\"red\", limits=None, plot_lines=True):\n",
    "    \"\"\"\n",
    "    Plot the provided skeletons in 3D coordinate space\n",
    "    Args:\n",
    "        ax: axis for plot\n",
    "        y_true_pred: joints to plot in 3D coordinate space\n",
    "        c: color (Default value = 'red')\n",
    "        limits: list of 3 ranges (x, y, and z limits)\n",
    "        plot_lines:  (Default value = True)\n",
    "\n",
    "    Note:\n",
    "        Plot the provided skeletons. Visualization purpose only\n",
    "\n",
    "    From DHP19 toolbox\n",
    "    \"\"\"\n",
    "\n",
    "    if limits is None:\n",
    "        limits = [[-5, 5], [-5, 5], [0, 15]]\n",
    "\n",
    "    x = points[:, 0]\n",
    "    y = points[:, 1]\n",
    "    z = points[:, 2]\n",
    "\n",
    "    ax.scatter(x, y, z, zdir=\"z\", s=20, c=c, marker=\"o\", depthshade=True)\n",
    "\n",
    "    lines_skeleton = get_skeleton_lines(x, y, z)\n",
    "\n",
    "    if plot_lines:\n",
    "        for line in range(len(lines_skeleton)):\n",
    "            ax.plot(\n",
    "                lines_skeleton[line, 0, :],\n",
    "                lines_skeleton[line, 1, :],\n",
    "                lines_skeleton[line, 2, :],\n",
    "                c,\n",
    "                label=\"gt\",\n",
    "            )\n",
    "\n",
    "    ax.set_xlabel(\"X Label\")\n",
    "    ax.set_ylabel(\"Y Label\")\n",
    "    ax.set_zlabel(\"Z Label\")\n",
    "    x_limits = limits[0]\n",
    "    y_limits = limits[1]\n",
    "    z_limits = limits[2]\n",
    "    x_range = np.abs(x_limits[1] - x_limits[0])\n",
    "    x_middle = np.mean(x_limits)\n",
    "    y_range = np.abs(y_limits[1] - y_limits[0])\n",
    "    y_middle = np.mean(y_limits)\n",
    "    z_range = np.abs(z_limits[1] - z_limits[0])\n",
    "    z_middle = np.mean(z_limits)\n",
    "    # The plot bounding box is a sphere in the sense of the infinity\n",
    "    # norm, hence I call half the max range the plot radius.\n",
    "    plot_radius = 0.5 * np.max([x_range, y_range, z_range])\n",
    "    ax.set_xlim3d([x_middle - plot_radius, x_middle + plot_radius])\n",
    "    ax.set_ylim3d([y_middle - plot_radius, y_middle + plot_radius])\n",
    "    ax.set_zlim3d([z_middle - plot_radius, z_middle + plot_radius])\n",
    "\n",
    "def plot_skeleton_3d(points):\n",
    "    \"\"\"\n",
    "        Args:\n",
    "           M: extrinsic matrix as tensor of shape 4x3\n",
    "           xyz: torch tensor of shape NUM_JOINTSx3\n",
    "           pred: torch tensor of shape NUM_JOINTSx3\n",
    "        \"\"\"\n",
    "\n",
    "    ax = get_3d_ax()\n",
    "    plot_3d(points, ax, c='red')"
   ]
  },
  {
   "cell_type": "code",
   "execution_count": 182,
   "metadata": {},
   "outputs": [
    {
     "name": "stderr",
     "output_type": "stream",
     "text": [
      "C:\\Users\\miracleyoo\\Anaconda3\\lib\\site-packages\\ipykernel_launcher.py:112: MatplotlibDeprecationWarning: Axes3D(fig) adding itself to the figure is deprecated since 3.4. Pass the keyword argument auto_add_to_figure=False and use fig.add_axes(ax) to suppress this warning. The default value of auto_add_to_figure will change to False in mpl3.5 and True values will no longer work in 3.6.  This is consistent with other Axes classes.\n"
     ]
    },
    {
     "data": {
      "image/png": "[encoded data removed]",
      "text/plain": [
       "<Figure size 800x800 with 1 Axes>"
      ]
     },
     "metadata": {},
     "output_type": "display_data"
    }
   ],
   "source": [
    "plot_skeleton_3d(joint_arr[:,6,:])\n",
    "plt.show()"
   ]
  },
  {
   "cell_type": "code",
   "execution_count": null,
   "metadata": {},
   "outputs": [],
   "source": []
  },
  {
   "cell_type": "code",
   "execution_count": null,
   "metadata": {},
   "outputs": [],
   "source": []
  }
 ],
 "metadata": {
  "interpreter": {
   "hash": "31a794d523a05919131f1b07ea04d855405c799a8bb37673e247852f1a64ba3c"
  },
  "kernelspec": {
   "display_name": "Python 3.7.3 64-bit ('base': conda)",
   "name": "python3"
  },
  "language_info": {
   "codemirror_mode": {
    "name": "ipython",
    "version": 3
   },
   "file_extension": ".py",
   "mimetype": "text/x-python",
   "name": "python",
   "nbconvert_exporter": "python",
   "pygments_lexer": "ipython3",
   "version": "3.7.3"
  },
  "orig_nbformat": 4
 },
 "nbformat": 4,
 "nbformat_minor": 2
}
