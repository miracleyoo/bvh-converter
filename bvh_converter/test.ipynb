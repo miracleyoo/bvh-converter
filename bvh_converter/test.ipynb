{
 "cells": [
  {
   "cell_type": "code",
   "execution_count": 34,
   "metadata": {},
   "outputs": [],
   "source": [
    "import csv\n",
    "import argparse\n",
    "import os\n",
    "import io\n",
    "import numpy as np\n",
    "import pandas as pd\n",
    "from bvh_converter.bvhplayer_skeleton import *\n",
    "\n",
    "%load_ext autoreload\n",
    "%autoreload 2"
   ]
  },
  {
   "cell_type": "code",
   "execution_count": 4,
   "metadata": {},
   "outputs": [],
   "source": [
    "filename = r'C:\\Users\\miracleyoo\\Downloads\\miku_bluestar.bvh'"
   ]
  },
  {
   "cell_type": "markdown",
   "metadata": {},
   "source": [
    "## Read BVH File"
   ]
  },
  {
   "cell_type": "code",
   "execution_count": 41,
   "metadata": {},
   "outputs": [
    {
     "name": "stdout",
     "output_type": "stream",
     "text": [
      "Reading BVH file...\n",
      "done\n"
     ]
    }
   ],
   "source": [
    "print(\"Reading BVH file...\",)\n",
    "my_bvh = ReadBVH(filename)  # Doesn't actually read the file, just creates\n",
    "# a readbvh object and sets up the file for\n",
    "# reading in the next line.\n",
    "my_bvh.read()  # Reads and parses the file.\n",
    "\n",
    "# This is because the vmd file contains two seperate \"roots\",\n",
    "# One is “操作中心”, and another is “全ての親”, but when converted\n",
    "# in bvh file, the former become useless and all the other bones\n",
    "# are bounded to the latter. Also, bvh file will generate a void\n",
    "# root whose children are these two items. Here we take the latter. \n",
    "hips = process_bvhnode(my_bvh.root.children[1])\n",
    "print(\"done\")\n",
    "print(f\"Key frame shape: {np.array(my_bvh.keyframes).shape}\")"
   ]
  },
  {
   "cell_type": "code",
   "execution_count": 133,
   "metadata": {},
   "outputs": [
    {
     "name": "stdout",
     "output_type": "stream",
     "text": [
      "Building skeleton...\n",
      "['Xposition', 'Yposition', 'Zposition', 'Xrotation', 'Yrotation', 'Zrotation']\n",
      "done\n"
     ]
    }
   ],
   "source": [
    "print(\"Building skeleton...\",)\n",
    "myskeleton = Skeleton(hips, keyframes=my_bvh.keyframes, frames=my_bvh.frames, dt=my_bvh.dt)\n",
    "print(\"done\")"
   ]
  },
  {
   "cell_type": "code",
   "execution_count": 66,
   "metadata": {},
   "outputs": [
    {
     "name": "stdout",
     "output_type": "stream",
     "text": [
      "39 ['頭.X', '頭.Y', '頭.Z', '腕.L.X', '腕.L.Y', '腕.L.Z', '腕.R.X', '腕.R.Y', '腕.R.Z', 'ひじ.L.X', 'ひじ.L.Y', 'ひじ.L.Z', 'ひじ.R.X', 'ひじ.R.Y', 'ひじ.R.Z', '手首.L.X', '手首.L.Y', '手首.L.Z', '手首.R.X', '手首.R.Y', '手首.R.Z', '足.L.X', '足.L.Y', '足.L.Z', '足.R.X', '足.R.Y', '足.R.Z', 'ひざ.L.X', 'ひざ.L.Y', 'ひざ.L.Z', 'ひざ.R.X', 'ひざ.R.Y', 'ひざ.R.Z', '足首.L.X', '足首.L.Y', '足首.L.Z', '足首.R.X', '足首.R.Y', '足首.R.Z']\n"
     ]
    }
   ],
   "source": [
    "parts_name = ['頭', '腕.R', '腕.L', 'ひじ.R', 'ひじ.L', '足.R', '足.L', '手首.R', '手首.L',  'ひざ.R', 'ひざ.L', '足首.R', '足首.L']\n",
    "col_names = []\n",
    "_ = [col_names.extend((k+'.X', k+'.Y', k+'.Z')) for k in parts_name]\n",
    "print(len(col_names), col_names)"
   ]
  },
  {
   "cell_type": "code",
   "execution_count": 298,
   "metadata": {},
   "outputs": [],
   "source": [
    "csv_file = r'D:\\MMD\\Setting_Pairs\\miku_neutral_street_bluestar\\motion_worldpos.csv'\n",
    "raw = pd.read_csv(csv_file, encoding='gbk')"
   ]
  },
  {
   "cell_type": "code",
   "execution_count": 78,
   "metadata": {},
   "outputs": [],
   "source": [
    "selected_joints = raw[col_names]\n",
    "joints_dict = {}\n",
    "for part in parts_name:\n",
    "    joint = selected_joints[[part+'.X', part+'.Y', part+'.Z']]\n",
    "    joints_dict[part] = joint.to_numpy()"
   ]
  },
  {
   "cell_type": "code",
   "execution_count": 113,
   "metadata": {},
   "outputs": [],
   "source": [
    "print(list(raw.columns))"
   ]
  },
  {
   "cell_type": "code",
   "execution_count": 234,
   "metadata": {},
   "outputs": [
    {
     "data": {
      "text/plain": [
       "(6836, 3)"
      ]
     },
     "execution_count": 234,
     "metadata": {},
     "output_type": "execute_result"
    }
   ],
   "source": [
    "np.zeros((raw.shape[0],3)).shape"
   ]
  },
  {
   "cell_type": "code",
   "execution_count": 317,
   "metadata": {},
   "outputs": [
    {
     "name": "stdout",
     "output_type": "stream",
     "text": [
      "(1000, 2) (1000, 1)\n",
      "(1000, 3)\n"
     ]
    }
   ],
   "source": [
    "joint_arr = np.zeros((13,1000,3))\n",
    "xy_norm_factor = joint_arr[:,:,:2].mean(axis=0)\n",
    "z_norm_factor = joint_arr[-2:,:,-1:].min(axis=0)\n",
    "norm_factor = np.concatenate((xy_norm_factor,z_norm_factor), axis=1)\n",
    "print(xy_norm_factor.shape, z_norm_factor.shape)\n",
    "print(norm_factor.shape)"
   ]
  },
  {
   "cell_type": "code",
   "execution_count": 312,
   "metadata": {},
   "outputs": [
    {
     "data": {
      "text/plain": [
       "(10, 5)"
      ]
     },
     "execution_count": 312,
     "metadata": {},
     "output_type": "execute_result"
    }
   ],
   "source": [
    "t1=np.zeros((10,3))\n",
    "t2=np.zeros((10,2))\n",
    "np.concatenate((t1,t2), axis=1).shape"
   ]
  },
  {
   "cell_type": "code",
   "execution_count": 346,
   "metadata": {},
   "outputs": [],
   "source": [
    "import pickle as pkl\n",
    "import os.path as op\n",
    "\n",
    "def extend_names_xyz(names):\n",
    "    if type(names) != list:\n",
    "        names = [str(names)]\n",
    "    col_names = []\n",
    "    _ = [col_names.extend((k+'.X', k+'.Y', k+'.Z')) for k in names]\n",
    "    return col_names\n",
    "\n",
    "def filter_columns(file_in, file_out=None, norm='ori', ret=False):\n",
    "    assert norm in ['ori', 'norm', 'both']\n",
    "    parts_names = ['頭', '腕.R', '腕.L', 'ひじ.R', 'ひじ.L', '足.R', '足.L', '手首.R', '手首.L',  'ひざ.R', 'ひざ.L', '足ＩＫ.R', '足ＩＫ.L']\n",
    "    # parts_names = ['頭', '腕.R', '腕.L', 'ひじ.R', 'ひじ.L', '足.R', '足.L', '手首.R', '手首.L',  'ひざ.R', 'ひざ.L', '足ＩＫ.R', '足ＩＫ.L']\n",
    "    \n",
    "    col_names = extend_names_xyz(parts_names)\n",
    "    # Blender will add 5 extra frames to a vmd \n",
    "    # motion compared to original MMD motion.\n",
    "    raw = pd.read_csv(file_in, encoding='gbk')[5:]\n",
    "    selected_joints = raw[col_names]\n",
    "\n",
    "    joint_list = []\n",
    "    \n",
    "    for part in parts_names:\n",
    "        joint = selected_joints[[part+'.X', part+'.Y', part+'.Z']].to_numpy()\n",
    "        joint_list.append(joint)\n",
    "\n",
    "    joint_arr = np.array(joint_list)\n",
    "    del joint_list\n",
    "\n",
    "    if norm != 'ori':\n",
    "        xy_norm_factor = joint_arr[:,:,:2].mean(axis=0)\n",
    "        z_norm_factor = joint_arr[-2:,:,-1:].min(axis=0)\n",
    "        norm_factor = np.concatenate((xy_norm_factor,z_norm_factor), axis=1)\n",
    "        # print(norm_factor.shape)\n",
    "        \n",
    "        joint_arr_normed = joint_arr - norm_factor\n",
    "        joint_arr_normed = joint_arr_normed.transpose(1,0,2)\n",
    "\n",
    "    joint_arr = joint_arr.transpose(1,0,2)\n",
    "\n",
    "    if file_out is None:\n",
    "        if norm != 'norm':\n",
    "            file_out = op.splitext(file_in)[0]+'_kp13.pkl'\n",
    "            with open(file_out, 'wb') as f:\n",
    "                pkl.dump(joint_arr, f)\n",
    "\n",
    "        if norm != 'ori':\n",
    "            file_out = op.splitext(file_in)[0]+'_kp13_normed.pkl'\n",
    "            with open(file_out, 'wb') as f:\n",
    "                pkl.dump(joint_arr_normed, f)\n",
    "\n",
    "    if ret:\n",
    "        if norm == 'ori':\n",
    "            return joint_arr\n",
    "        elif norm == 'norm':\n",
    "            return joint_arr_normed\n",
    "        else:\n",
    "            return joint_arr, joint_arr_normed"
   ]
  },
  {
   "cell_type": "code",
   "execution_count": 348,
   "metadata": {},
   "outputs": [],
   "source": [
    "from matplotlib import pyplot as plt\n",
    "from mpl_toolkits.mplot3d import Axes3D\n",
    "\n",
    "def get_skeleton_lines(x, y, z):\n",
    "    \"\"\"\n",
    "    From DHP19 toolbox\n",
    "    \"\"\"\n",
    "    # rename joints to identify name and axis\n",
    "    x_head, x_shoulderR, x_shoulderL, x_elbowR = x[0], x[1], x[2], x[3]\n",
    "    x_elbowL, x_hipR, x_hipL = (\n",
    "        x[4],\n",
    "        x[5],\n",
    "        x[6],\n",
    "    )\n",
    "    x_handR, x_handL, x_kneeR = (\n",
    "        x[7],\n",
    "        x[8],\n",
    "        x[9],\n",
    "    )\n",
    "    x_kneeL, x_footR, x_footL = x[10], x[11], x[12]\n",
    "\n",
    "    y_head, y_shoulderR, y_shoulderL, y_elbowR = y[0], y[1], y[2], y[3]\n",
    "    y_elbowL, y_hipR, y_hipL = (\n",
    "        y[4],\n",
    "        y[5],\n",
    "        y[6],\n",
    "    )\n",
    "    y_handR, y_handL, y_kneeR = (\n",
    "        y[7],\n",
    "        y[8],\n",
    "        y[9],\n",
    "    )\n",
    "    y_kneeL, y_footR, y_footL = y[10], y[11], y[12]\n",
    "\n",
    "    z_head, z_shoulderR, z_shoulderL, z_elbowR = z[0], z[1], z[2], z[3]\n",
    "    z_elbowL, z_hipR, z_hipL = (\n",
    "        z[4],\n",
    "        z[5],\n",
    "        z[6],\n",
    "    )\n",
    "    z_handR, z_handL, z_kneeR = (\n",
    "        z[7],\n",
    "        z[8],\n",
    "        z[9],\n",
    "    )\n",
    "    z_kneeL, z_footR, z_footL = z[10], z[11], z[12]\n",
    "\n",
    "    # definition of the lines of the skeleton graph\n",
    "    skeleton = np.zeros((14, 3, 2))\n",
    "    skeleton[0, :, :] = [\n",
    "        [x_head, x_shoulderR],\n",
    "        [y_head, y_shoulderR],\n",
    "        [z_head, z_shoulderR],\n",
    "    ]\n",
    "    skeleton[1, :, :] = [\n",
    "        [x_head, x_shoulderL],\n",
    "        [y_head, y_shoulderL],\n",
    "        [z_head, z_shoulderL],\n",
    "    ]\n",
    "    skeleton[2, :, :] = [\n",
    "        [x_elbowR, x_shoulderR],\n",
    "        [y_elbowR, y_shoulderR],\n",
    "        [z_elbowR, z_shoulderR],\n",
    "    ]\n",
    "    skeleton[3, :, :] = [\n",
    "        [x_elbowL, x_shoulderL],\n",
    "        [y_elbowL, y_shoulderL],\n",
    "        [z_elbowL, z_shoulderL],\n",
    "    ]\n",
    "    skeleton[4, :, :] = [\n",
    "        [x_elbowR, x_handR],\n",
    "        [y_elbowR, y_handR],\n",
    "        [z_elbowR, z_handR],\n",
    "    ]\n",
    "    skeleton[5, :, :] = [\n",
    "        [x_elbowL, x_handL],\n",
    "        [y_elbowL, y_handL],\n",
    "        [z_elbowL, z_handL],\n",
    "    ]\n",
    "    skeleton[6, :, :] = [\n",
    "        [x_hipR, x_shoulderR],\n",
    "        [y_hipR, y_shoulderR],\n",
    "        [z_hipR, z_shoulderR],\n",
    "    ]\n",
    "    skeleton[7, :, :] = [\n",
    "        [x_hipL, x_shoulderL],\n",
    "        [y_hipL, y_shoulderL],\n",
    "        [z_hipL, z_shoulderL],\n",
    "    ]\n",
    "    skeleton[8, :, :] = [[x_hipR, x_kneeR], [y_hipR, y_kneeR], [z_hipR, z_kneeR]]\n",
    "    skeleton[9, :, :] = [[x_hipL, x_kneeL], [y_hipL, y_kneeL], [z_hipL, z_kneeL]]\n",
    "    skeleton[10, :, :] = [\n",
    "        [x_footR, x_kneeR],\n",
    "        [y_footR, y_kneeR],\n",
    "        [z_footR, z_kneeR],\n",
    "    ]\n",
    "    skeleton[11, :, :] = [\n",
    "        [x_footL, x_kneeL],\n",
    "        [y_footL, y_kneeL],\n",
    "        [z_footL, z_kneeL],\n",
    "    ]\n",
    "    skeleton[12, :, :] = [\n",
    "        [x_shoulderR, x_shoulderL],\n",
    "        [y_shoulderR, y_shoulderL],\n",
    "        [z_shoulderR, z_shoulderL],\n",
    "    ]\n",
    "    skeleton[13, :, :] = [[x_hipR, x_hipL], [y_hipR, y_hipL], [z_hipR, z_hipL]]\n",
    "    return skeleton\n",
    "\n",
    "def get_3d_ax():\n",
    "    fig = plt.figure(figsize=(8, 8))\n",
    "    ax = Axes3D(fig)\n",
    "    ax.xaxis.pane.fill = False\n",
    "    ax.yaxis.pane.fill = False\n",
    "    ax.zaxis.pane.fill = False\n",
    "\n",
    "    # Now set color to white (or whatever is \"invisible\")\n",
    "    ax.xaxis.pane.set_edgecolor('w')\n",
    "    ax.yaxis.pane.set_edgecolor('w')\n",
    "    ax.zaxis.pane.set_edgecolor('w')\n",
    "\n",
    "    # Bonus: To get rid of the grid as well:\n",
    "    ax.grid(False)\n",
    "    ax.view_init(30, 240)\n",
    "    return ax\n",
    "\n",
    "def plot_3d(points, ax, c=\"red\", limits=None, plot_lines=True, angle=270):\n",
    "    \"\"\"\n",
    "    Plot the provided skeletons in 3D coordinate space\n",
    "    Args:\n",
    "        ax: axis for plot\n",
    "        y_true_pred: joints to plot in 3D coordinate space\n",
    "        c: color (Default value = 'red')\n",
    "        limits: list of 3 ranges (x, y, and z limits)\n",
    "        plot_lines:  (Default value = True)\n",
    "\n",
    "    Note:\n",
    "        Plot the provided skeletons. Visualization purpose only\n",
    "\n",
    "    From DHP19 toolbox\n",
    "    \"\"\"\n",
    "\n",
    "    if limits is None:\n",
    "        limits = [[-3, 3], [-3, 3], [0, 15]]\n",
    "\n",
    "    x = points[:, 0]\n",
    "    y = points[:, 1]\n",
    "    z = points[:, 2]\n",
    "\n",
    "    ax.scatter(x, y, z, zdir=\"z\", s=20, c=c, marker=\"o\", depthshade=True)\n",
    "\n",
    "    lines_skeleton = get_skeleton_lines(x, y, z)\n",
    "\n",
    "    if plot_lines:\n",
    "        for line in range(len(lines_skeleton)):\n",
    "            ax.plot(\n",
    "                lines_skeleton[line, 0, :],\n",
    "                lines_skeleton[line, 1, :],\n",
    "                lines_skeleton[line, 2, :],\n",
    "                c,\n",
    "                label=\"gt\",\n",
    "            )\n",
    "\n",
    "    ax.set_xlabel(\"X Label\")\n",
    "    ax.set_ylabel(\"Y Label\")\n",
    "    ax.set_zlabel(\"Z Label\")\n",
    "    x_limits = limits[0]\n",
    "    y_limits = limits[1]\n",
    "    z_limits = limits[2]\n",
    "    x_range = np.abs(x_limits[1] - x_limits[0])\n",
    "    x_middle = np.mean(x_limits)\n",
    "    y_range = np.abs(y_limits[1] - y_limits[0])\n",
    "    y_middle = np.mean(y_limits)\n",
    "    z_range = np.abs(z_limits[1] - z_limits[0])\n",
    "    z_middle = np.mean(z_limits)\n",
    "    # The plot bounding box is a sphere in the sense of the infinity\n",
    "    # norm, hence I call half the max range the plot radius.\n",
    "    plot_radius = 0.5 * np.max([x_range, y_range, z_range])\n",
    "    ax.set_xlim3d([x_middle - plot_radius, x_middle + plot_radius])\n",
    "    ax.set_ylim3d([y_middle - plot_radius, y_middle + plot_radius])\n",
    "    ax.set_zlim3d([z_middle - plot_radius, z_middle + plot_radius])\n",
    "\n",
    "    ax.view_init(elev=10, azim=angle)\n",
    "\n",
    "def plot_skeleton_3d(points, angle=270):\n",
    "    \"\"\"\n",
    "        Args:\n",
    "           M: extrinsic matrix as tensor of shape 4x3\n",
    "           xyz: torch tensor of shape NUM_JOINTSx3\n",
    "           pred: torch tensor of shape NUM_JOINTSx3\n",
    "        \"\"\"\n",
    "\n",
    "    ax = get_3d_ax()\n",
    "    plot_3d(points, ax, c='red', angle=angle)"
   ]
  },
  {
   "cell_type": "code",
   "execution_count": 347,
   "metadata": {},
   "outputs": [],
   "source": [
    "joint_arr_normed = filter_columns(csv_file, norm='norm', ret=True)"
   ]
  },
  {
   "cell_type": "code",
   "execution_count": 349,
   "metadata": {},
   "outputs": [
    {
     "name": "stderr",
     "output_type": "stream",
     "text": [
      "C:\\Users\\miracleyoo\\Anaconda3\\lib\\site-packages\\ipykernel_launcher.py:112: MatplotlibDeprecationWarning: Axes3D(fig) adding itself to the figure is deprecated since 3.4. Pass the keyword argument auto_add_to_figure=False and use fig.add_axes(ax) to suppress this warning. The default value of auto_add_to_figure will change to False in mpl3.5 and True values will no longer work in 3.6.  This is consistent with other Axes classes.\n"
     ]
    },
    {
     "data": {
      "image/png": "[encoded data removed]",
      "text/plain": [
       "<Figure size 800x800 with 1 Axes>"
      ]
     },
     "metadata": {},
     "output_type": "display_data"
    }
   ],
   "source": [
    "plot_skeleton_3d(joint_arr_normed[0], 270)\n",
    "plt.show()"
   ]
  },
  {
   "cell_type": "code",
   "execution_count": null,
   "metadata": {},
   "outputs": [],
   "source": []
  },
  {
   "cell_type": "code",
   "execution_count": 350,
   "metadata": {},
   "outputs": [
    {
     "ename": "ImportError",
     "evalue": "cannot import name 'Bvh' from 'bvh' (e:\\GitHub\\bvh-converter\\bvh_converter\\bvh.py)",
     "output_type": "error",
     "traceback": [
      "\u001b[1;31m---------------------------------------------------------------------------\u001b[0m",
      "\u001b[1;31mImportError\u001b[0m                               Traceback (most recent call last)",
      "\u001b[1;32m<ipython-input-350-b7eaf45d078f>\u001b[0m in \u001b[0;36m<module>\u001b[1;34m\u001b[0m\n\u001b[1;32m----> 1\u001b[1;33m \u001b[1;32mfrom\u001b[0m \u001b[0mbvh\u001b[0m \u001b[1;32mimport\u001b[0m \u001b[0mBvh\u001b[0m\u001b[1;33m\u001b[0m\u001b[1;33m\u001b[0m\u001b[0m\n\u001b[0m",
      "\u001b[1;31mImportError\u001b[0m: cannot import name 'Bvh' from 'bvh' (e:\\GitHub\\bvh-converter\\bvh_converter\\bvh.py)"
     ]
    }
   ],
   "source": [
    "from bvh import Bvh"
   ]
  },
  {
   "cell_type": "markdown",
   "metadata": {},
   "source": [
    "## Blender APIs"
   ]
  },
  {
   "cell_type": "code",
   "execution_count": null,
   "metadata": {},
   "outputs": [],
   "source": [
    "import byp\n",
    "\n",
    "# Set Frame\n",
    "bpy.context.scene.frame_set('Frame Num')\n",
    "\n",
    "# Frame Start Index\n",
    "C.scene.frame_start\n",
    "C.scene.frame_end\n",
    "\n"
   ]
  },
  {
   "cell_type": "code",
   "execution_count": null,
   "metadata": {},
   "outputs": [],
   "source": [
    "import os.path as op\n",
    "import numpy as np\n",
    "import pickle as pkl\n",
    "\n",
    "###################################################################\n",
    "############### PARAMETERS YOU NEED TO FILL IN ####################\n",
    "model_name='Tda Hood Miku 1.00 by iRon0129'\n",
    "output_dir = r'D:\\MMD\\Setting_Pairs\\miku_neutral_street_bluestar'\n",
    "output_flags = {'raw': True, 'kp13': False, 'kp13_normed': True}\n",
    "###################################################################\n",
    "\n",
    "# Get part of the data using bone names\n",
    "def pose_slice(names, data):\n",
    "    if type(names) not in (list, tuple):\n",
    "        names = [str(names)]\n",
    "    indexes = np.array([data['names'].index(k) for k in names])\n",
    "    joint_arr = data['data'][:,indexes]\n",
    "    return joint_arr\n",
    "\n",
    "armature_name = model_name + '_arm'\n",
    "frame_start = C.scene.frame_start\n",
    "frame_end = C.scene.frame_end\n",
    "\n",
    "pose_bones = {pb.name: pb for pb in D.objects[armature_name].pose.bones}\n",
    "pb_names = list(pose_bones.keys())\n",
    "\n",
    "data = np.zeros((frame_end-frame_start+1, len(pb_names), 3))\n",
    "for frame_idx in range(frame_start, frame_end+1):\n",
    "    bpy.context.scene.frame_set(frame_idx)\n",
    "    for bone_idx, pbn in enumerate(pb_names):\n",
    "        data[frame_idx-1, bone_idx, :] = pose_bones[pbn].head\n",
    "\n",
    "data_dict = {'names': pb_names, 'data': data}"
   ]
  },
  {
   "cell_type": "code",
   "execution_count": 352,
   "metadata": {},
   "outputs": [],
   "source": [
    "output_path = r'D:\\MMD\\Setting_Pairs\\miku_neutral_street_bluestar\\motion_dict.pkl'\n",
    "\n",
    "with open(output_path, 'rb') as f:\n",
    "    data = pkl.load(f)"
   ]
  },
  {
   "cell_type": "code",
   "execution_count": 404,
   "metadata": {},
   "outputs": [],
   "source": [
    "parts_names_kp13 = ['頭', '腕.R', '腕.L', 'ひじ.R', 'ひじ.L', '足.R', '足.L', \n",
    "        '手首.R', '手首.L',  'ひざ.R', 'ひざ.L', '足首.R', '足首.L']\n",
    "kp13_arr = pose_slice(parts_names_kp13, data_dict)\n",
    "center_arr = pose_slice('グルーブ', data_dict)\n",
    "center_arr[:,:,2] = 0\n",
    "kp13_arr_normed = kp13_arr - center_arr\n",
    "\n",
    "if output_flags['raw']:\n",
    "    with open(op.join(output_dir, 'motion_dict.pkl'), 'wb') as f:\n",
    "        pkl.dump(data_dict, f)\n",
    "\n",
    "if output_flags['kp13']:\n",
    "    data_dict_kp13 = {'names': parts_names_kp13, 'data': kp13_arr}\n",
    "    with open(op.join(output_dir, 'motion_dict_kp13.pkl'), 'wb') as f:\n",
    "        pkl.dump(data_dict_kp13, f)\n",
    "\n",
    "if output_flags['kp13_normed']:\n",
    "    data_dict_kp13 = {'names': parts_names_kp13, 'data': kp13_arr_normed}\n",
    "    with open(op.join(output_dir, 'motion_dict_kp13_normed.pkl'), 'wb') as f:\n",
    "        pkl.dump(data_dict, f)"
   ]
  },
  {
   "cell_type": "code",
   "execution_count": 356,
   "metadata": {},
   "outputs": [],
   "source": [
    "print(center_arr.shape, kp13_arr.shape)"
   ]
  },
  {
   "cell_type": "code",
   "execution_count": 399,
   "metadata": {},
   "outputs": [
    {
     "name": "stderr",
     "output_type": "stream",
     "text": [
      "C:\\Users\\miracleyoo\\Anaconda3\\lib\\site-packages\\ipykernel_launcher.py:112: MatplotlibDeprecationWarning: Axes3D(fig) adding itself to the figure is deprecated since 3.4. Pass the keyword argument auto_add_to_figure=False and use fig.add_axes(ax) to suppress this warning. The default value of auto_add_to_figure will change to False in mpl3.5 and True values will no longer work in 3.6.  This is consistent with other Axes classes.\n"
     ]
    },
    {
     "data": {
      "image/png": "[encoded data removed]",
      "text/plain": [
       "<Figure size 800x800 with 1 Axes>"
      ]
     },
     "metadata": {},
     "output_type": "display_data"
    }
   ],
   "source": [
    "plot_skeleton_3d(kp13_arr_normed[6800], 90)\n",
    "plt.show()"
   ]
  },
  {
   "cell_type": "code",
   "execution_count": null,
   "metadata": {},
   "outputs": [],
   "source": []
  }
 ],
 "metadata": {
  "interpreter": {
   "hash": "31a794d523a05919131f1b07ea04d855405c799a8bb37673e247852f1a64ba3c"
  },
  "kernelspec": {
   "display_name": "Python 3.7.3 64-bit ('base': conda)",
   "name": "python3"
  },
  "language_info": {
   "codemirror_mode": {
    "name": "ipython",
    "version": 3
   },
   "file_extension": ".py",
   "mimetype": "text/x-python",
   "name": "python",
   "nbconvert_exporter": "python",
   "pygments_lexer": "ipython3",
   "version": "3.7.3"
  },
  "orig_nbformat": 4
 },
 "nbformat": 4,
 "nbformat_minor": 2
}
