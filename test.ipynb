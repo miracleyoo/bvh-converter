{
 "cells": [
  {
   "cell_type": "code",
   "execution_count": 2,
   "metadata": {},
   "outputs": [],
   "source": [
    "import csv\n",
    "import argparse\n",
    "import os\n",
    "import io\n",
    "import glob\n",
    "import h5py\n",
    "import shutil\n",
    "import numpy as np\n",
    "import pandas as pd\n",
    "import pickle as pkl\n",
    "import os.path as op\n",
    "\n",
    "from bvh_converter.bvhplayer_skeleton import *\n",
    "from pathlib2 import Path\n",
    "%load_ext autoreload\n",
    "%autoreload 2"
   ]
  },
  {
   "cell_type": "code",
   "execution_count": 3,
   "metadata": {},
   "outputs": [],
   "source": [
    "def extend_names_xyz(names):\n",
    "    if type(names) != list:\n",
    "        names = [str(names)]\n",
    "    col_names = []\n",
    "    _ = [col_names.extend((k+'.X', k+'.Y', k+'.Z')) for k in names]\n",
    "    return col_names\n",
    "\n",
    "def filter_columns(file_in, file_out=None, norm='ori', ret=False):\n",
    "    assert norm in ['ori', 'norm', 'both']\n",
    "    parts_names = ['頭', '腕.R', '腕.L', 'ひじ.R', 'ひじ.L', '足.R', '足.L', '手首.R', '手首.L',  'ひざ.R', 'ひざ.L', '足ＩＫ.R', '足ＩＫ.L']\n",
    "    # parts_names = ['頭', '腕.R', '腕.L', 'ひじ.R', 'ひじ.L', '足.R', '足.L', '手首.R', '手首.L',  'ひざ.R', 'ひざ.L', '足ＩＫ.R', '足ＩＫ.L']\n",
    "    \n",
    "    col_names = extend_names_xyz(parts_names)\n",
    "    # Blender will add 5 extra frames to a vmd \n",
    "    # motion compared to original MMD motion.\n",
    "    raw = pd.read_csv(file_in, encoding='gbk')[5:]\n",
    "    selected_joints = raw[col_names]\n",
    "\n",
    "    joint_list = []\n",
    "    \n",
    "    for part in parts_names:\n",
    "        joint = selected_joints[[part+'.X', part+'.Y', part+'.Z']].to_numpy()\n",
    "        joint_list.append(joint)\n",
    "\n",
    "    joint_arr = np.array(joint_list)\n",
    "    del joint_list\n",
    "\n",
    "    if norm != 'ori':\n",
    "        xy_norm_factor = joint_arr[:,:,:2].mean(axis=0)\n",
    "        z_norm_factor = joint_arr[-2:,:,-1:].min(axis=0)\n",
    "        norm_factor = np.concatenate((xy_norm_factor,z_norm_factor), axis=1)\n",
    "        # print(norm_factor.shape)\n",
    "        \n",
    "        joint_arr_normed = joint_arr - norm_factor\n",
    "        joint_arr_normed = joint_arr_normed.transpose(1,0,2)\n",
    "\n",
    "    joint_arr = joint_arr.transpose(1,0,2)\n",
    "\n",
    "    if file_out is None:\n",
    "        if norm != 'norm':\n",
    "            file_out = op.splitext(file_in)[0]+'_kp13.pkl'\n",
    "            with open(file_out, 'wb') as f:\n",
    "                pkl.dump(joint_arr, f)\n",
    "\n",
    "        if norm != 'ori':\n",
    "            file_out = op.splitext(file_in)[0]+'_kp13_normed.pkl'\n",
    "            with open(file_out, 'wb') as f:\n",
    "                pkl.dump(joint_arr_normed, f)\n",
    "\n",
    "    if ret:\n",
    "        if norm == 'ori':\n",
    "            return joint_arr\n",
    "        elif norm == 'norm':\n",
    "            return joint_arr_normed\n",
    "        else:\n",
    "            return joint_arr, joint_arr_normed"
   ]
  },
  {
   "cell_type": "code",
   "execution_count": 4,
   "metadata": {},
   "outputs": [],
   "source": [
    "from matplotlib import pyplot as plt\n",
    "from mpl_toolkits.mplot3d import Axes3D\n",
    "\n",
    "def get_skeleton_lines(x, y, z):\n",
    "    \"\"\"\n",
    "    From DHP19 toolbox\n",
    "    \"\"\"\n",
    "    # rename joints to identify name and axis\n",
    "    x_head, x_shoulderR, x_shoulderL, x_elbowR = x[0], x[1], x[2], x[3]\n",
    "    x_elbowL, x_hipR, x_hipL = (\n",
    "        x[4],\n",
    "        x[5],\n",
    "        x[6],\n",
    "    )\n",
    "    x_handR, x_handL, x_kneeR = (\n",
    "        x[7],\n",
    "        x[8],\n",
    "        x[9],\n",
    "    )\n",
    "    x_kneeL, x_footR, x_footL = x[10], x[11], x[12]\n",
    "\n",
    "    y_head, y_shoulderR, y_shoulderL, y_elbowR = y[0], y[1], y[2], y[3]\n",
    "    y_elbowL, y_hipR, y_hipL = (\n",
    "        y[4],\n",
    "        y[5],\n",
    "        y[6],\n",
    "    )\n",
    "    y_handR, y_handL, y_kneeR = (\n",
    "        y[7],\n",
    "        y[8],\n",
    "        y[9],\n",
    "    )\n",
    "    y_kneeL, y_footR, y_footL = y[10], y[11], y[12]\n",
    "\n",
    "    z_head, z_shoulderR, z_shoulderL, z_elbowR = z[0], z[1], z[2], z[3]\n",
    "    z_elbowL, z_hipR, z_hipL = (\n",
    "        z[4],\n",
    "        z[5],\n",
    "        z[6],\n",
    "    )\n",
    "    z_handR, z_handL, z_kneeR = (\n",
    "        z[7],\n",
    "        z[8],\n",
    "        z[9],\n",
    "    )\n",
    "    z_kneeL, z_footR, z_footL = z[10], z[11], z[12]\n",
    "\n",
    "    # definition of the lines of the skeleton graph\n",
    "    skeleton = np.zeros((14, 3, 2))\n",
    "    skeleton[0, :, :] = [\n",
    "        [x_head, x_shoulderR],\n",
    "        [y_head, y_shoulderR],\n",
    "        [z_head, z_shoulderR],\n",
    "    ]\n",
    "    skeleton[1, :, :] = [\n",
    "        [x_head, x_shoulderL],\n",
    "        [y_head, y_shoulderL],\n",
    "        [z_head, z_shoulderL],\n",
    "    ]\n",
    "    skeleton[2, :, :] = [\n",
    "        [x_elbowR, x_shoulderR],\n",
    "        [y_elbowR, y_shoulderR],\n",
    "        [z_elbowR, z_shoulderR],\n",
    "    ]\n",
    "    skeleton[3, :, :] = [\n",
    "        [x_elbowL, x_shoulderL],\n",
    "        [y_elbowL, y_shoulderL],\n",
    "        [z_elbowL, z_shoulderL],\n",
    "    ]\n",
    "    skeleton[4, :, :] = [\n",
    "        [x_elbowR, x_handR],\n",
    "        [y_elbowR, y_handR],\n",
    "        [z_elbowR, z_handR],\n",
    "    ]\n",
    "    skeleton[5, :, :] = [\n",
    "        [x_elbowL, x_handL],\n",
    "        [y_elbowL, y_handL],\n",
    "        [z_elbowL, z_handL],\n",
    "    ]\n",
    "    skeleton[6, :, :] = [\n",
    "        [x_hipR, x_shoulderR],\n",
    "        [y_hipR, y_shoulderR],\n",
    "        [z_hipR, z_shoulderR],\n",
    "    ]\n",
    "    skeleton[7, :, :] = [\n",
    "        [x_hipL, x_shoulderL],\n",
    "        [y_hipL, y_shoulderL],\n",
    "        [z_hipL, z_shoulderL],\n",
    "    ]\n",
    "    skeleton[8, :, :] = [[x_hipR, x_kneeR], [y_hipR, y_kneeR], [z_hipR, z_kneeR]]\n",
    "    skeleton[9, :, :] = [[x_hipL, x_kneeL], [y_hipL, y_kneeL], [z_hipL, z_kneeL]]\n",
    "    skeleton[10, :, :] = [\n",
    "        [x_footR, x_kneeR],\n",
    "        [y_footR, y_kneeR],\n",
    "        [z_footR, z_kneeR],\n",
    "    ]\n",
    "    skeleton[11, :, :] = [\n",
    "        [x_footL, x_kneeL],\n",
    "        [y_footL, y_kneeL],\n",
    "        [z_footL, z_kneeL],\n",
    "    ]\n",
    "    skeleton[12, :, :] = [\n",
    "        [x_shoulderR, x_shoulderL],\n",
    "        [y_shoulderR, y_shoulderL],\n",
    "        [z_shoulderR, z_shoulderL],\n",
    "    ]\n",
    "    skeleton[13, :, :] = [[x_hipR, x_hipL], [y_hipR, y_hipL], [z_hipR, z_hipL]]\n",
    "    return skeleton\n",
    "\n",
    "def get_3d_ax(ret_fig=False):\n",
    "    fig = plt.figure(figsize=(8, 8))\n",
    "    # ax = Axes3D(fig)\n",
    "    ax = Axes3D(fig, auto_add_to_figure=False)\n",
    "    fig.add_axes(ax)\n",
    "    ax.xaxis.pane.fill = False\n",
    "    ax.yaxis.pane.fill = False\n",
    "    ax.zaxis.pane.fill = False\n",
    "\n",
    "    # Now set color to white (or whatever is \"invisible\")\n",
    "    ax.xaxis.pane.set_edgecolor('w')\n",
    "    ax.yaxis.pane.set_edgecolor('w')\n",
    "    ax.zaxis.pane.set_edgecolor('w')\n",
    "\n",
    "    # Bonus: To get rid of the grid as well:\n",
    "    ax.grid(False)\n",
    "    ax.view_init(30, 240)\n",
    "    if not ret_fig:\n",
    "        return ax\n",
    "    else:\n",
    "        return ax, fig\n",
    "\n",
    "def plot_3d(points, ax, c=\"red\", limits=None, plot_lines=True, angle=270, cam_height=10):\n",
    "    \"\"\"\n",
    "    Plot the provided skeletons in 3D coordinate space\n",
    "    Args:\n",
    "        ax: axis for plot\n",
    "        y_true_pred: joints to plot in 3D coordinate space\n",
    "        c: color (Default value = 'red')\n",
    "        limits: list of 3 ranges (x, y, and z limits)\n",
    "        plot_lines:  (Default value = True)\n",
    "\n",
    "    Note:\n",
    "        Plot the provided skeletons. Visualization purpose only\n",
    "\n",
    "    From DHP19 toolbox\n",
    "    \"\"\"\n",
    "\n",
    "    if limits is None:\n",
    "        limits = [[-3, 3], [-3, 3], [0, 15]]\n",
    "\n",
    "    x = points[:, 0]\n",
    "    y = points[:, 1]\n",
    "    z = points[:, 2]\n",
    "\n",
    "    ax.scatter(x, y, z, zdir=\"z\", s=20, c=c, marker=\"o\", depthshade=True)\n",
    "\n",
    "    lines_skeleton = get_skeleton_lines(x, y, z)\n",
    "\n",
    "    if plot_lines:\n",
    "        for line in range(len(lines_skeleton)):\n",
    "            ax.plot(\n",
    "                lines_skeleton[line, 0, :],\n",
    "                lines_skeleton[line, 1, :],\n",
    "                lines_skeleton[line, 2, :],\n",
    "                c,\n",
    "                label=\"gt\",\n",
    "            )\n",
    "\n",
    "    ax.set_xlabel(\"X Label\")\n",
    "    ax.set_ylabel(\"Y Label\")\n",
    "    ax.set_zlabel(\"Z Label\")\n",
    "    x_limits = limits[0]\n",
    "    y_limits = limits[1]\n",
    "    z_limits = limits[2]\n",
    "    x_range = np.abs(x_limits[1] - x_limits[0])\n",
    "    x_middle = np.mean(x_limits)\n",
    "    y_range = np.abs(y_limits[1] - y_limits[0])\n",
    "    y_middle = np.mean(y_limits)\n",
    "    z_range = np.abs(z_limits[1] - z_limits[0])\n",
    "    z_middle = np.mean(z_limits)\n",
    "    # The plot bounding box is a sphere in the sense of the infinity\n",
    "    # norm, hence I call half the max range the plot radius.\n",
    "    plot_radius = 0.5 * np.max([x_range, y_range, z_range])\n",
    "    ax.set_xlim3d([x_middle - plot_radius, x_middle + plot_radius])\n",
    "    ax.set_ylim3d([y_middle - plot_radius, y_middle + plot_radius])\n",
    "    ax.set_zlim3d([z_middle - plot_radius, z_middle + plot_radius])\n",
    "\n",
    "    ax.view_init(elev=cam_height, azim=angle)\n",
    "\n",
    "def plot_skeleton_3d(points, angle=270, cam_height=10, ret_fig=False):\n",
    "    \"\"\"\n",
    "        Args:\n",
    "           M: extrinsic matrix as tensor of shape 4x3\n",
    "           xyz: torch tensor of shape NUM_JOINTSx3\n",
    "           pred: torch tensor of shape NUM_JOINTSx3\n",
    "        \"\"\"\n",
    "    ax, fig = get_3d_ax(ret_fig=True)\n",
    "    plot_3d(points, ax, c='red', angle=angle, cam_height=cam_height)\n",
    "    if ret_fig:\n",
    "        return fig"
   ]
  },
  {
   "cell_type": "code",
   "execution_count": 347,
   "metadata": {},
   "outputs": [],
   "source": [
    "joint_arr_normed = filter_columns(csv_file, norm='norm', ret=True)"
   ]
  },
  {
   "cell_type": "code",
   "execution_count": 422,
   "metadata": {},
   "outputs": [],
   "source": [
    "plot_skeleton_3d(joint_arr_normed[0], 270)\n",
    "plt.show()"
   ]
  },
  {
   "cell_type": "markdown",
   "metadata": {},
   "source": [
    "## Blender APIs"
   ]
  },
  {
   "cell_type": "code",
   "execution_count": null,
   "metadata": {},
   "outputs": [],
   "source": [
    "# This and the following cells are for blender plugin\n",
    "# They can not work here.\n",
    "\n",
    "import byp\n",
    "C = bpy.context\n",
    "D = bpy.data\n",
    "\n",
    "# Set Frame\n",
    "bpy.context.scene.frame_set('Frame Num')\n",
    "\n",
    "# Frame Start Index\n",
    "C.scene.frame_start\n",
    "C.scene.frame_end"
   ]
  },
  {
   "cell_type": "code",
   "execution_count": null,
   "metadata": {},
   "outputs": [],
   "source": [
    "import os.path as op\n",
    "import numpy as np\n",
    "import pickle as pkl\n",
    "\n",
    "###################################################################\n",
    "############### PARAMETERS YOU NEED TO FILL IN ####################\n",
    "model_name='Tda Hood Miku 1.00 by iRon0129'\n",
    "output_dir = r'D:\\MMD\\Setting_Pairs\\miku_neutral_street_bluestar'\n",
    "output_flags = {'raw': True, 'kp13': False, 'kp13_normed': True}\n",
    "###################################################################\n",
    "\n",
    "# Get part of the data using bone names\n",
    "def pose_slice(names, data):\n",
    "    if type(names) not in (list, tuple):\n",
    "        names = [str(names)]\n",
    "    indexes = np.array([data['names'].index(k) for k in names])\n",
    "    joint_arr = data['data'][:,indexes]\n",
    "    return joint_arr\n",
    "\n",
    "armature_name = model_name + '_arm'\n",
    "frame_start = C.scene.frame_start\n",
    "frame_end = C.scene.frame_end\n",
    "\n",
    "pose_bones = {pb.name: pb for pb in D.objects[armature_name].pose.bones}\n",
    "pb_names = list(pose_bones.keys())\n",
    "\n",
    "data = np.zeros((frame_end-frame_start+1, len(pb_names), 3))\n",
    "for frame_idx in range(frame_start, frame_end+1):\n",
    "    bpy.context.scene.frame_set(frame_idx)\n",
    "    for bone_idx, pbn in enumerate(pb_names):\n",
    "        data[frame_idx-1, bone_idx, :] = pose_bones[pbn].head\n",
    "\n",
    "data_dict = {'names': pb_names, 'data': data}"
   ]
  },
  {
   "cell_type": "code",
   "execution_count": 412,
   "metadata": {},
   "outputs": [],
   "source": [
    "parts_names_kp13 = ['頭', '腕.R', '腕.L', 'ひじ.R', 'ひじ.L', '足.R', '足.L', \n",
    "        '手首.R', '手首.L',  'ひざ.R', 'ひざ.L', '足首.R', '足首.L']\n",
    "kp13_arr = pose_slice(parts_names_kp13, data_dict)\n",
    "\n",
    "# Use the center point 'グルーブ' as the center x and y coordinate\n",
    "center_arr = pose_slice('グルーブ', data_dict)\n",
    "center_arr[:,:,2] = 0\n",
    "kp13_arr_normed = kp13_arr - center_arr\n",
    "\n",
    "# Output files according to the flag setting\n",
    "if output_flags['raw']:\n",
    "    with open(op.join(output_dir, 'motion_dict.pkl'), 'wb') as f:\n",
    "        pkl.dump(data_dict, f)\n",
    "\n",
    "if output_flags['kp13']:\n",
    "    data_dict_kp13 = {'names': parts_names_kp13, 'data': kp13_arr}\n",
    "    with open(op.join(output_dir, 'motion_dict_kp13.pkl'), 'wb') as f:\n",
    "        pkl.dump(data_dict_kp13, f)\n",
    "\n",
    "if output_flags['kp13_normed']:\n",
    "    data_dict_kp13_normed = {'names': parts_names_kp13, 'data': kp13_arr_normed}\n",
    "    with open(op.join(output_dir, 'motion_dict_kp13_normed.pkl'), 'wb') as f:\n",
    "        pkl.dump(data_dict_kp13_normed, f)"
   ]
  },
  {
   "cell_type": "markdown",
   "metadata": {},
   "source": [
    "# Generate Videos from Blender-Dumped Poses"
   ]
  },
  {
   "cell_type": "code",
   "execution_count": 12,
   "metadata": {},
   "outputs": [],
   "source": [
    "## This cell is not going to be used in blender plugin\n",
    "output_path = r'D:\\MMD\\Setting_Pairs\\miku_neutral_street_bluestar\\motion_dict_kp13_normed.pkl'\n",
    "\n",
    "with open(output_path, 'rb') as f:\n",
    "    data_dict = pkl.load(f)\n",
    "\n",
    "kp13_arr_centered = data_dict['data']"
   ]
  },
  {
   "cell_type": "code",
   "execution_count": 13,
   "metadata": {},
   "outputs": [
    {
     "name": "stdout",
     "output_type": "stream",
     "text": [
      "15.874866008758545\n"
     ]
    }
   ],
   "source": [
    "lowest_foot = kp13_arr_centered[:,-2:,-1:].min(axis=1)\n",
    "kp13_arr_centered_xyz = kp13_arr_centered\n",
    "kp13_arr_centered_xyz[:,:,-1] -= lowest_foot\n",
    "highest_head = kp13_arr_centered_xyz[:,0,-1].max()\n",
    "kp13_arr_normed_xyz = kp13_arr_centered_xyz/highest_head"
   ]
  },
  {
   "cell_type": "code",
   "execution_count": 508,
   "metadata": {},
   "outputs": [
    {
     "name": "stdout",
     "output_type": "stream",
     "text": [
      "(6831, 13, 3)\n"
     ]
    }
   ],
   "source": [
    "# kp13_arr_normed = kp13_arr_normed[:6830]\n",
    "print(kp13_arr_normed.shape)"
   ]
  },
  {
   "cell_type": "code",
   "execution_count": 491,
   "metadata": {},
   "outputs": [],
   "source": [
    "def plt2arr(fig, draw=True):\n",
    "    \"\"\"\n",
    "    need to draw if figure is not drawn yet\n",
    "    \"\"\"\n",
    "    if draw:\n",
    "        fig.canvas.draw()\n",
    "    rgba_buf = fig.canvas.buffer_rgba()\n",
    "    (w,h) = fig.canvas.get_width_height()\n",
    "    rgba_arr = np.frombuffer(rgba_buf, dtype=np.uint8).reshape((h,w,4))[:,:,:3]\n",
    "    return rgba_arr\n",
    "\n",
    "def skeleton_frame(i, view_angle=240):\n",
    "    fig = plot_skeleton_3d(kp13_arr_normed[i], view_angle, ret_fig=True)\n",
    "    data = plt2arr(fig, True)\n",
    "    plt.cla()\n",
    "    return data\n",
    "\n",
    "# data = skeleton_frame(10)"
   ]
  },
  {
   "cell_type": "code",
   "execution_count": 502,
   "metadata": {},
   "outputs": [],
   "source": [
    "import numpy as np\n",
    "import cv2\n",
    "\n",
    "data = skeleton_frame(0)\n",
    "size = data.shape[:2]\n",
    "frame_num = kp13_arr_normed.shape[0]\n",
    "frame_step = 1\n",
    "fps = 30\n",
    "out = cv2.VideoWriter('./results/output.mp4', cv2.VideoWriter_fourcc(*'mp4v'), fps, (size[1], size[0]))\n",
    "for i in range(0, frame_num, frame_step):\n",
    "    data = skeleton_frame(i)\n",
    "    data = cv2.cvtColor(data, cv2.COLOR_RGB2BGR)\n",
    "    # data = np.random.randint(0, 256, size, dtype='uint8')\n",
    "    out.write(data)\n",
    "out.release()"
   ]
  },
  {
   "cell_type": "markdown",
   "metadata": {},
   "source": [
    "# Generate Image Sequences from poses"
   ]
  },
  {
   "cell_type": "code",
   "execution_count": 504,
   "metadata": {},
   "outputs": [],
   "source": [
    "frame_num = 10#kp13_arr_normed.shape[0]\n",
    "frame_step = 1\n",
    "view_angle = 240\n",
    "for i in range(0, frame_num, frame_step):\n",
    "    plot_skeleton_3d(kp13_arr_normed[i], view_angle)\n",
    "    # plt.show()\n",
    "    plt.savefig('./results/pose_gt_normed/%5d.png'%i)\n",
    "    plt.close()"
   ]
  },
  {
   "cell_type": "code",
   "execution_count": 440,
   "metadata": {},
   "outputs": [
    {
     "name": "stdout",
     "output_type": "stream",
     "text": [
      "6801\n"
     ]
    }
   ],
   "source": [
    "import glob\n",
    "frames = glob.glob('./results/pose_gt_normed*.png')\n",
    "print(len(frames))"
   ]
  },
  {
   "cell_type": "code",
   "execution_count": 445,
   "metadata": {},
   "outputs": [],
   "source": [
    "import ffmpeg\n",
    "(\n",
    "    ffmpeg\n",
    "    .input('./results/pose_gt_normed/#####.png', pattern_type='glob', framerate=30)\n",
    "    .output('./results/pose_gt_normed.mp4')\n",
    "    .run()\n",
    ")"
   ]
  },
  {
   "cell_type": "code",
   "execution_count": 443,
   "metadata": {},
   "outputs": [],
   "source": [
    "# for frame_name in frames:\n",
    "#     stem = op.splitext(op.split(frame_name)[1])[0].lstrip('pose_gt_normed')\n",
    "#     digit = int(stem)\n",
    "#     new_name = op.split(frame_name)[0]+'/pose_gt_normed/'+f\"{digit:05d}\"+op.splitext(frame_name)[1]\n",
    "#     os.rename(frame_name, new_name)\n",
    "    # print(f\"{stem}->{new_name}\")\n",
    "\n",
    "# for frame_name in frames:\n",
    "#     stem = op.splitext(op.split(frame_name)[1])[0]\n",
    "#     digit = int(stem)\n",
    "#     new_name = op.split(frame_name)[0]+f\"{digit:05d}\"+op.splitext(frame_name)[1]\n",
    "#     os.rename(frame_name, new_name)"
   ]
  },
  {
   "cell_type": "markdown",
   "metadata": {},
   "source": [
    "# Move Compressed Videos to another folder"
   ]
  },
  {
   "cell_type": "code",
   "execution_count": 69,
   "metadata": {},
   "outputs": [],
   "source": [
    "def move_comp(raw_root, comp_root, test_only=True):\n",
    "    raw_videos = glob.glob(op.join(raw_root, '*', '*.mp4'))\n",
    "    os.makedirs(comp_root, exist_ok=True)\n",
    "    print('Total Video Num: ', len(raw_videos))\n",
    "\n",
    "    for raw_path in raw_videos:\n",
    "        raw_dirname, filename = Path(raw_path).parts[-2:]\n",
    "        new_dir = op.join(comp_root, raw_dirname)\n",
    "        new_path = op.join(new_dir, filename.lstrip('[SHANA]'))\n",
    "        if not op.exists(new_dir):\n",
    "            os.makedirs(new_dir, exist_ok=True)\n",
    "        print(raw_path, ' -> ', new_path)\n",
    "        if not test_only:\n",
    "            os.rename(raw_path, new_path)"
   ]
  },
  {
   "cell_type": "code",
   "execution_count": 61,
   "metadata": {},
   "outputs": [
    {
     "name": "stdout",
     "output_type": "stream",
     "text": [
      "24\n"
     ]
    }
   ],
   "source": [
    "raw_root = r'J:\\datasets\\DVS\\mmd\\raw'\n",
    "comp_root = r'J:\\datasets\\DVS\\mmd\\compressed'\n",
    "move_comp(raw_root, comp_root, test_only=True)\n",
    "# raw_videos = glob.glob(op.join(raw_root, '*', '*.mp4'))\n",
    "# os.makedirs(comp_root, exist_ok=True)\n",
    "# print(len(raw_videos))"
   ]
  },
  {
   "cell_type": "markdown",
   "metadata": {},
   "source": [
    "# Visualize the events"
   ]
  },
  {
   "cell_type": "code",
   "execution_count": 30,
   "metadata": {},
   "outputs": [],
   "source": [
    "import numpy as np\n",
    "import h5py\n",
    "from collections import Counter"
   ]
  },
  {
   "cell_type": "code",
   "execution_count": 36,
   "metadata": {},
   "outputs": [
    {
     "name": "stdout",
     "output_type": "stream",
     "text": [
      "<KeysViewHDF5 ['events']> (11031529, 4)\n"
     ]
    }
   ],
   "source": [
    "fname = r\"D:\\MMD\\Projects\\low-ligth-multi-motion-test\\test8\\events.h5\"\n",
    "f_in =h5py.File(fname, 'r')\n",
    "print(f_in.keys(), f_in['events'].shape)"
   ]
  },
  {
   "cell_type": "code",
   "execution_count": 37,
   "metadata": {},
   "outputs": [
    {
     "name": "stdout",
     "output_type": "stream",
     "text": [
      "[11766 12746 13727 14707 15688 16668 17649 18629 19610 20590]\n",
      "[(980, 7252), (981, 6688), (654, 1446), (653, 921), (982, 338), (655, 111), (490, 58), (491, 13), (492, 1)]\n"
     ]
    }
   ],
   "source": [
    "timestemps = np.sort(list(set(f_in['events'][:,0])))\n",
    "print(timestemps[:10])\n",
    "deltas = []\n",
    "for i in range(timestemps.shape[0]-1):\n",
    "    deltas.append(timestemps[i+1]-timestemps[i])\n",
    "# deltas = np.array(list(set(deltas)))\n",
    "# deltas.sort()\n",
    "# print(deltas)\n",
    "ct = Counter(deltas)\n",
    "# print(ct, '\\n', ct.most_common())\n",
    "print(ct.most_common())"
   ]
  },
  {
   "cell_type": "markdown",
   "metadata": {},
   "source": [
    "[16684 18769 20855 22941 25026 27112 29197 31283 33368 35454]\n",
    "2085"
   ]
  },
  {
   "cell_type": "markdown",
   "metadata": {},
   "source": [
    "max(f_in['events'][:,1]) = 345\n",
    "\n",
    "max(f_in['events'][:,2]) = 259\n",
    "\n",
    "set(f_in['events'][:,3]) = {0, 1}\n",
    "\n",
    "f_in['events'].shape = (10942848, 4)"
   ]
  },
  {
   "cell_type": "markdown",
   "metadata": {},
   "source": [
    "# V2E Parameters\n",
    "\n",
    "## Necessary Parameters\n",
    "\n",
    "### Control\n",
    "- `--overwrite` \n",
    "- `--unique_output_folder true`\n",
    "- `-no_preview`\n",
    "\n",
    "### Input\n",
    "- `--input_frame_rate 30` 这个看似可以设定输入视频的FPS，然而实际上如果输入是视频这个不用设置，设置了也没用，会读取视频自己的FPS。当且仅当输入为图片序列时有效。\n",
    "\n",
    "- `--input_slowmotion_factor 1` 这个参数极具误导性。它不针对slow motion插值做任何工作，而是用于修复输入视频的bug。比如本来拍的时候这个视频是120FPS，但是出于某种原因，实际上显示的播放FPS只有30FPS，那么，这里应该设置为4，用于修复这个问题。如果本来正常的视频设置了这个值为非1，那么如果该factor>1, 那么输出DVS视频则只有原来的时长/factor倍。反之亦然。 \n",
    "\n",
    "### Output Video\n",
    "- `--dvs_exposure duration 0.0083333` % 每帧曝光时长。这个只是针对输出视频的，对events本身的timestamps精度没有任何影响。而且影响的是视频中每帧曝光时间长短或曝光events数，但对帧率*没有影响！*\n",
    "\n",
    "- `--avi_frame_rate 60` % 这里是直观的设置输出DVS视频的FPS，同样，对events的timestamps精度无影响。这个参数要和`--timestamp_resolution` 搭配使用。如果这个FPS设置的太大，而`--timestamp_resolution`不够小，即events的实际分辨率不足，那输出的DVS Video很容易出现跳帧现象，即一帧正常，有很多events，而下一帧就GG了，可能完全没有events，或是很少。建议至少这个`1/timestamp_resolution>avi_frame_rate`。\n",
    "\n",
    "- \n",
    "\n",
    "### Output Other\n",
    "\n",
    "- `--dvs_h5 events.h5` 输出一个events.h5文件，里面只有一个key，即events。内容就是简单的事件堆叠。\n",
    "\n",
    "\n",
    "### DVS Params\n",
    "- `--auto_timestamp_resolution true` 用于自动保证一个像素不会在下一帧移动多个像素，每次只移动一格。\n",
    "- `--timestamp_resolution 0.001` 可以说这个就是最关键的参数了。用于计算插值把输入视频插成多少倍。这里指定的是两个events之间最多的时间间隔，实际生成的events只会比这个更加短时间。这里的参数设置的是把输入视频插值为1000Hz，之后计算DVS。如果输入FPS为60，插值倍数为17。\n",
    "- `--cutoff_hz 30` 这个数字越小，输出的events越稀薄，即同一条edge的变化带来的事件会更少。如果这个值设置为<=0，那么忽略低通滤波器直接。如果这个值无限大，依然相当于忽略滤波器。\n",
    "\n",
    "#### Noisy Condition\n",
    "- `--pos_thres 0.2 --neg_thres 0.2 --sigma_thres 0.05 --cutoff_hz 30 --leak_rate_hz 0.1 --shot_noise_rate_hz 5`\n",
    "\n",
    "#### Custom Condition\n",
    "- `--pos_thres 0.2 --neg_thres 0.2 --sigma_thres 0.05 --cutoff_hz 30 --leak_rate_hz 0.1 --shot_noise_rate_hz 5`\n",
    "\n",
    "#### Clean Condition\n",
    "- `--pos_thres 0.2 --neg_thres 0.2 --sigma_thres 0.02 --cutoff_hz 0 --leak_rate_hz 0 --shot_noise_rate_hz 0`\n",
    "\n",
    "\n",
    "\n",
    "### SloMo Params\n",
    "\n",
    "\n",
    "\n",
    "\n",
    "- `` -\n",
    "\n",
    "v2e.py --overwrite --unique_output_folder true --no_preview --input_slowmotion_factor 1 --auto_timestamp_resolution true --pos_thres 0.2 --neg_thres 0.2 --sigma_thres 0.03 --cutoff_hz 30 --leak_rate_hz 0.01 --shot_noise_rate_hz 0.5 --output_height 260 --output_width 462 --dvs_exposure duration 0.0166666667 --timestamp_resolution 0.002 --dvs_h5 events.h5 --dvs_text None --dvs_aedat2 None --avi_frame_rate 60 --slomo_model E:\\GitHub\\v2e\\input\\SuperSloMo39.ckpt -i D:\\MMD\\Projects\\low-ligth-multi-motion-test\\001.avi --output_folder D:\\MMD\\Projects\\low-ligth-multi-motion-test\\test16_mid_noise --batch_size 16 "
   ]
  },
  {
   "cell_type": "code",
   "execution_count": 47,
   "metadata": {},
   "outputs": [
    {
     "data": {
      "text/plain": [
       "1"
      ]
     },
     "execution_count": 47,
     "metadata": {},
     "output_type": "execute_result"
    }
   ],
   "source": [
    "!cd E:\\GitHub\\v2e\n",
    "cmd = r\"v2e.py --overwrite --unique_output_folder true --no_preview --input_slowmotion_factor 1 --auto_timestamp_resolution true --pos_thres 0.2 --neg_thres 0.2 --sigma_thres 0.03 --cutoff_hz 30 --leak_rate_hz 0.01 --shot_noise_rate_hz 0.5 --output_height 260 --output_width 462 --dvs_exposure duration 0.0166666667 --timestamp_resolution 0.002 --dvs_h5 events.h5 --dvs_text None --dvs_aedat2 None --avi_frame_rate 60 --slomo_model E:\\GitHub\\v2e\\input\\SuperSloMo39.ckpt -i 'D:\\MMD\\Projects\\low-ligth-multi-motion-test\\001.avi' --output_folder 'D:\\MMD\\Projects\\low-ligth-multi-motion-test\\test16_mid_noise' --batch_size 16 \"\n",
    "\n",
    "os.system('ls')"
   ]
  },
  {
   "cell_type": "code",
   "execution_count": 43,
   "metadata": {},
   "outputs": [
    {
     "ename": "FileNotFoundError",
     "evalue": "[WinError 2] 系统找不到指定的文件。",
     "output_type": "error",
     "traceback": [
      "\u001b[1;31m---------------------------------------------------------------------------\u001b[0m",
      "\u001b[1;31mFileNotFoundError\u001b[0m                         Traceback (most recent call last)",
      "\u001b[1;32m<ipython-input-43-f3b36000b329>\u001b[0m in \u001b[0;36m<module>\u001b[1;34m\u001b[0m\n\u001b[0;32m      4\u001b[0m \u001b[0mcmd_splits\u001b[0m \u001b[1;33m=\u001b[0m \u001b[0mshlex\u001b[0m\u001b[1;33m.\u001b[0m\u001b[0msplit\u001b[0m\u001b[1;33m(\u001b[0m\u001b[1;34m'ls -l'\u001b[0m\u001b[1;33m)\u001b[0m\u001b[1;33m\u001b[0m\u001b[1;33m\u001b[0m\u001b[0m\n\u001b[0;32m      5\u001b[0m \u001b[1;33m\u001b[0m\u001b[0m\n\u001b[1;32m----> 6\u001b[1;33m \u001b[0mprocess\u001b[0m \u001b[1;33m=\u001b[0m \u001b[0msubprocess\u001b[0m\u001b[1;33m.\u001b[0m\u001b[0mPopen\u001b[0m\u001b[1;33m(\u001b[0m\u001b[0mcmd_splits\u001b[0m\u001b[1;33m)\u001b[0m \u001b[1;31m#,\u001b[0m\u001b[1;33m\u001b[0m\u001b[1;33m\u001b[0m\u001b[0m\n\u001b[0m\u001b[0;32m      7\u001b[0m                     \u001b[1;31m#  stdout=subprocess.PIPE,\u001b[0m\u001b[1;33m\u001b[0m\u001b[1;33m\u001b[0m\u001b[1;33m\u001b[0m\u001b[0m\n\u001b[0;32m      8\u001b[0m                     \u001b[1;31m#  stderr=subprocess.PIPE)\u001b[0m\u001b[1;33m\u001b[0m\u001b[1;33m\u001b[0m\u001b[1;33m\u001b[0m\u001b[0m\n",
      "\u001b[1;32m~\\Anaconda3\\lib\\subprocess.py\u001b[0m in \u001b[0;36m__init__\u001b[1;34m(self, args, bufsize, executable, stdin, stdout, stderr, preexec_fn, close_fds, shell, cwd, env, universal_newlines, startupinfo, creationflags, restore_signals, start_new_session, pass_fds, encoding, errors, text)\u001b[0m\n\u001b[0;32m    773\u001b[0m                                 \u001b[0mc2pread\u001b[0m\u001b[1;33m,\u001b[0m \u001b[0mc2pwrite\u001b[0m\u001b[1;33m,\u001b[0m\u001b[1;33m\u001b[0m\u001b[1;33m\u001b[0m\u001b[0m\n\u001b[0;32m    774\u001b[0m                                 \u001b[0merrread\u001b[0m\u001b[1;33m,\u001b[0m \u001b[0merrwrite\u001b[0m\u001b[1;33m,\u001b[0m\u001b[1;33m\u001b[0m\u001b[1;33m\u001b[0m\u001b[0m\n\u001b[1;32m--> 775\u001b[1;33m                                 restore_signals, start_new_session)\n\u001b[0m\u001b[0;32m    776\u001b[0m         \u001b[1;32mexcept\u001b[0m\u001b[1;33m:\u001b[0m\u001b[1;33m\u001b[0m\u001b[1;33m\u001b[0m\u001b[0m\n\u001b[0;32m    777\u001b[0m             \u001b[1;31m# Cleanup if the child failed starting.\u001b[0m\u001b[1;33m\u001b[0m\u001b[1;33m\u001b[0m\u001b[1;33m\u001b[0m\u001b[0m\n",
      "\u001b[1;32m~\\Anaconda3\\lib\\subprocess.py\u001b[0m in \u001b[0;36m_execute_child\u001b[1;34m(self, args, executable, preexec_fn, close_fds, pass_fds, cwd, env, startupinfo, creationflags, shell, p2cread, p2cwrite, c2pread, c2pwrite, errread, errwrite, unused_restore_signals, unused_start_new_session)\u001b[0m\n\u001b[0;32m   1176\u001b[0m                                          \u001b[0menv\u001b[0m\u001b[1;33m,\u001b[0m\u001b[1;33m\u001b[0m\u001b[1;33m\u001b[0m\u001b[0m\n\u001b[0;32m   1177\u001b[0m                                          \u001b[0mos\u001b[0m\u001b[1;33m.\u001b[0m\u001b[0mfspath\u001b[0m\u001b[1;33m(\u001b[0m\u001b[0mcwd\u001b[0m\u001b[1;33m)\u001b[0m \u001b[1;32mif\u001b[0m \u001b[0mcwd\u001b[0m \u001b[1;32mis\u001b[0m \u001b[1;32mnot\u001b[0m \u001b[1;32mNone\u001b[0m \u001b[1;32melse\u001b[0m \u001b[1;32mNone\u001b[0m\u001b[1;33m,\u001b[0m\u001b[1;33m\u001b[0m\u001b[1;33m\u001b[0m\u001b[0m\n\u001b[1;32m-> 1178\u001b[1;33m                                          startupinfo)\n\u001b[0m\u001b[0;32m   1179\u001b[0m             \u001b[1;32mfinally\u001b[0m\u001b[1;33m:\u001b[0m\u001b[1;33m\u001b[0m\u001b[1;33m\u001b[0m\u001b[0m\n\u001b[0;32m   1180\u001b[0m                 \u001b[1;31m# Child is launched. Close the parent's copy of those pipe\u001b[0m\u001b[1;33m\u001b[0m\u001b[1;33m\u001b[0m\u001b[1;33m\u001b[0m\u001b[0m\n",
      "\u001b[1;31mFileNotFoundError\u001b[0m: [WinError 2] 系统找不到指定的文件。"
     ]
    }
   ],
   "source": [
    "import shlex\n",
    "import subprocess\n",
    "\n",
    "cmd_splits = shlex.split('ls -l')\n",
    "\n",
    "process = subprocess.Popen(cmd_splits) #,\n",
    "                    #  stdout=subprocess.PIPE, \n",
    "                    #  stderr=subprocess.PIPE)\n",
    "stdout, stderr = process.communicate()\n",
    "stdout, stderr"
   ]
  },
  {
   "cell_type": "code",
   "execution_count": 48,
   "metadata": {},
   "outputs": [
    {
     "data": {
      "text/plain": [
       "['v2e.py',\n",
       " '--overwrite',\n",
       " '--unique_output_folder',\n",
       " 'true',\n",
       " '--no_preview',\n",
       " '--input_slowmotion_factor',\n",
       " '1',\n",
       " '--auto_timestamp_resolution',\n",
       " 'true',\n",
       " '--pos_thres',\n",
       " '0.2',\n",
       " '--neg_thres',\n",
       " '0.2',\n",
       " '--sigma_thres',\n",
       " '0.03',\n",
       " '--cutoff_hz',\n",
       " '30',\n",
       " '--leak_rate_hz',\n",
       " '0.01',\n",
       " '--shot_noise_rate_hz',\n",
       " '0.5',\n",
       " '--output_height',\n",
       " '260',\n",
       " '--output_width',\n",
       " '462',\n",
       " '--dvs_exposure',\n",
       " 'duration',\n",
       " '0.0166666667',\n",
       " '--timestamp_resolution',\n",
       " '0.002',\n",
       " '--dvs_h5',\n",
       " 'events.h5',\n",
       " '--dvs_text',\n",
       " 'None',\n",
       " '--dvs_aedat2',\n",
       " 'None',\n",
       " '--avi_frame_rate',\n",
       " '60',\n",
       " '--slomo_model',\n",
       " 'E:GitHubv2einputSuperSloMo39.ckpt',\n",
       " '-i',\n",
       " 'D:\\\\MMD\\\\Projects\\\\low-ligth-multi-motion-test\\\\001.avi',\n",
       " '--output_folder',\n",
       " 'D:\\\\MMD\\\\Projects\\\\low-ligth-multi-motion-test\\\\test16_mid_noise',\n",
       " '--batch_size',\n",
       " '16']"
      ]
     },
     "execution_count": 48,
     "metadata": {},
     "output_type": "execute_result"
    }
   ],
   "source": [
    "shlex.split(cmd)"
   ]
  },
  {
   "cell_type": "code",
   "execution_count": 51,
   "metadata": {},
   "outputs": [],
   "source": [
    "CMD = r\"\"\"python v2e.py --overwrite --unique_output_folder true --no_preview \n",
    "--input_slowmotion_factor 1 --auto_timestamp_resolution true \n",
    "--pos_thres 0.2 --neg_thres 0.2 --sigma_thres 0.03 --cutoff_hz 30 \n",
    "--leak_rate_hz 0.01 --shot_noise_rate_hz 0.5 --output_height 260 \n",
    "--output_width 462 --dvs_exposure duration 0.0166666667 \n",
    "--timestamp_resolution 0.002 --dvs_h5 events.h5 --dvs_text None \n",
    "--dvs_aedat2 None --avi_frame_rate 60 --slomo_model \"E:\\GitHub\\v2e\\input\\SuperSloMo39.ckpt\" \n",
    "-i \"D:\\MMD\\Projects\\low-ligth-multi-motion-test\\001.avi\" --output_folder \n",
    "\"D:\\MMD\\Projects\\low-ligth-multi-motion-test\\test17_mid_noise\"\n",
    "--batch_size 16\"\"\""
   ]
  },
  {
   "cell_type": "code",
   "execution_count": 53,
   "metadata": {},
   "outputs": [
    {
     "name": "stdout",
     "output_type": "stream",
     "text": [
      "python v2e.py --overwrite --unique_output_folder true --no_preview --input_slowmotion_factor 1 --auto_timestamp_resolution true --pos_thres 0.2 --neg_thres 0.2 --sigma_thres 0.03 --cutoff_hz 30 --leak_rate_hz 0.01 --shot_noise_rate_hz 0.5 --output_height 260 --output_width 462 --dvs_exposure duration 0.0166666667 --timestamp_resolution 0.002 --dvs_h5 events.h5 --dvs_text None --dvs_aedat2 None --avi_frame_rate 60 --slomo_model E:\\GitHub\\v2e\\input\\SuperSloMo39.ckpt -i 'D:\\MMD\\Projects\\low-ligth-multi-motion-test\\001.avi' --output_folder 'D:\\MMD\\Projects\\low-ligth-multi-motion-test\\test17_mid_noise' --batch_size 16\n"
     ]
    }
   ],
   "source": [
    "print(CMD.replace('\\n',''))"
   ]
  },
  {
   "cell_type": "code",
   "execution_count": 58,
   "metadata": {},
   "outputs": [],
   "source": [
    "from mlib import mio\n",
    "data=mio.load(r'J:\\datasets\\DVS\\mmd\\pose\\miku_s8\\motion_dict_kp13_normed_lv2.pkl')['data'][357]"
   ]
  },
  {
   "cell_type": "code",
   "execution_count": 62,
   "metadata": {},
   "outputs": [],
   "source": [
    "from vis_utils import plot_skeleton_3d\n",
    "import matplotlib.pyplot as plt"
   ]
  },
  {
   "cell_type": "code",
   "execution_count": 68,
   "metadata": {},
   "outputs": [
    {
     "data": {
      "image/png": "[encoded data removed]",
      "text/plain": [
       "<Figure size 800x800 with 1 Axes>"
      ]
     },
     "metadata": {},
     "output_type": "display_data"
    }
   ],
   "source": [
    "limits = [[-0.5, 0.5], [-0.5, 0.5], [0, 1.2]]\n",
    "plot_skeleton_3d(data, angle=240, limits=limits)\n",
    "plt.show()"
   ]
  },
  {
   "cell_type": "code",
   "execution_count": null,
   "metadata": {},
   "outputs": [],
   "source": []
  }
 ],
 "metadata": {
  "interpreter": {
   "hash": "31a794d523a05919131f1b07ea04d855405c799a8bb37673e247852f1a64ba3c"
  },
  "kernelspec": {
   "display_name": "Python 3.7.3 64-bit ('base': conda)",
   "name": "python3"
  },
  "language_info": {
   "codemirror_mode": {
    "name": "ipython",
    "version": 3
   },
   "file_extension": ".py",
   "mimetype": "text/x-python",
   "name": "python",
   "nbconvert_exporter": "python",
   "pygments_lexer": "ipython3",
   "version": "3.7.3"
  },
  "orig_nbformat": 4
 },
 "nbformat": 4,
 "nbformat_minor": 2
}
